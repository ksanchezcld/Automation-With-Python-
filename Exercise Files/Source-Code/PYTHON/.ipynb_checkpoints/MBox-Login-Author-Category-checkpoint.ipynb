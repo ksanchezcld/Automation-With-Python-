{
 "cells": [
  {
   "cell_type": "code",
   "execution_count": 241,
   "metadata": {},
   "outputs": [],
   "source": [
    "from selenium import webdriver\n",
    "from selenium.webdriver.common.by import By\n",
    "from selenium.webdriver.support.ui import WebDriverWait\n",
    "from selenium.webdriver.support import expected_conditions as EC"
   ]
  },
  {
   "cell_type": "code",
   "execution_count": 242,
   "metadata": {},
   "outputs": [],
   "source": [
    "options = webdriver.ChromeOptions()\n",
    "options.add_argument('--incognito')\n",
    "driver = webdriver.Chrome(options=options)"
   ]
  },
  {
   "cell_type": "code",
   "execution_count": 243,
   "metadata": {},
   "outputs": [],
   "source": [
    "def mentorBoxLogin():\n",
    "    url = 'https://www.mentorbox.com/member.php'\n",
    "    #driver.get('https://www.mentorbox.com/member.php')\n",
    "    driver.get(url)\n",
    "    driver.maximize_window()\n",
    "    loginField = driver.find_element_by_xpath('//*[@id=\"loginForm\"]/div[1]/input')\n",
    "    loginField.send_keys('ing_ksanchez@hotmail.com')\n",
    "    passwordField = driver.find_element_by_xpath('//*[@id=\"loginForm\"]/div[2]/input')\n",
    "    passwordField.send_keys('37ZeV6OUWnXU3KAm$5dy')\n",
    "    showMessageButton = driver.find_element_by_xpath('//*[@id=\"btn_login\"]')\n",
    "    showMessageButton.click()"
   ]
  },
  {
   "cell_type": "code",
   "execution_count": 244,
   "metadata": {},
   "outputs": [],
   "source": [
    "def mentorBoxProfile():\n",
    "    #Navigate to Profile Session and update credit card fields, change passwords, etc.\n",
    "    url = 'https://www.mentorbox.com/profile.php'\n",
    "    #driver.get('https://www.mentorbox.com/profile.php')\n",
    "    driver.get(url)\n",
    "    wait = WebDriverWait(driver, 5)\n",
    "    launchCCButton = wait.until(EC.element_to_be_clickeable((By.XPATH,'//*[@id=\"about\"]/div/div/div[2]/div/div/form/button/span')))\n",
    "    #'//*[@id=\"about\"]/div/div/div[2]/div/div/form/button')))\n",
    "    launchCCButton.click()\n",
    "    ccNumberField = driver.find_element_by_xpath('//*[@id=\"9f047190-8d9a-11ea-9fac-4d82f9a8739b\"]')\n",
    "    ccNumberField.send_keys('123456789')\n",
    "    ccExpirationField = driver.find_element_by_xpath('//*[@id=\"9f04e6c0-8d9a-11ea-9fac-4d82f9a8739b\"]')\n",
    "    ccExpirationField.send_keys('0102')\n",
    "    ccCvcField = driver.find.element_by_xpath('//*[@id=\"9f0534e0-8d9a-11ea-9fac-4d82f9a8739b\"]')\n",
    "    ccCvcField.send_keys('321')\n",
    "    ccUpdateButton = driver.find_element_by_xpath('//*[@id=\"container\"]/section/span[2]/div/div/main/form/nav/div/div/div/button')\n",
    "    ccUpdateButton.click()\n",
    "    ccClose = driver.get_element_by_xpath('//*[@id=\"container\"]/section/span[2]/div/div/main/div/header/div[1]/span[2]')\n",
    "    ccClose.click()"
   ]
  },
  {
   "cell_type": "code",
   "execution_count": 245,
   "metadata": {},
   "outputs": [],
   "source": [
    "#def mentorBoxAuthor():\n",
    "#https://www.mentorbox.com/programs.php?author=Alex%20Mehr"
   ]
  },
  {
   "cell_type": "code",
   "execution_count": 267,
   "metadata": {},
   "outputs": [
    {
     "data": {
      "text/plain": [
       "[<selenium.webdriver.remote.webelement.WebElement (session=\"fbb0b1c9a659d168a1276a3fe2e030f6\", element=\"e147a6ab-94b1-4d42-8114-c0f4c9d61b93\")>,\n",
       " <selenium.webdriver.remote.webelement.WebElement (session=\"fbb0b1c9a659d168a1276a3fe2e030f6\", element=\"8fd17381-447a-4134-858d-ef51a48cc0fe\")>,\n",
       " <selenium.webdriver.remote.webelement.WebElement (session=\"fbb0b1c9a659d168a1276a3fe2e030f6\", element=\"5a5d6723-39a5-4372-8f76-4da83ef5169e\")>,\n",
       " <selenium.webdriver.remote.webelement.WebElement (session=\"fbb0b1c9a659d168a1276a3fe2e030f6\", element=\"032210ca-5216-4865-a154-b19833228f2e\")>,\n",
       " <selenium.webdriver.remote.webelement.WebElement (session=\"fbb0b1c9a659d168a1276a3fe2e030f6\", element=\"73e93cc8-5765-4fbf-b516-6262712ea672\")>]"
      ]
     },
     "execution_count": 267,
     "metadata": {},
     "output_type": "execute_result"
    }
   ],
   "source": [
    "#def mentorBoxCategory():\n",
    "    #https://www.mentorbox.com/programs.php?category=Advanced%20Business\n",
    "###########################\n",
    "\n",
    "url = 'https://www.mentorbox.com/programs.php?'\n",
    "args_category = 'category'\n",
    "args_author = 'author'\n",
    "separator = '='\n",
    "value = 'Advanced%20Business'\n",
    "\n",
    "link = 'url + args_category + separator + value'\n",
    "\n",
    "driver.get(url)\n",
    "\n",
    "categories = driver.find_elements_by_xpath('//div[@class=\"form-group\"]')\n",
    "categories"
   ]
  },
  {
   "cell_type": "code",
   "execution_count": 272,
   "metadata": {},
   "outputs": [
    {
     "data": {
      "text/plain": [
       "<selenium.webdriver.remote.webelement.WebElement (session=\"fbb0b1c9a659d168a1276a3fe2e030f6\", element=\"e147a6ab-94b1-4d42-8114-c0f4c9d61b93\")>"
      ]
     },
     "execution_count": 272,
     "metadata": {},
     "output_type": "execute_result"
    }
   ],
   "source": [
    "cat = categories[0]\n",
    "cat"
   ]
  },
  {
   "cell_type": "code",
   "execution_count": 273,
   "metadata": {},
   "outputs": [
    {
     "data": {
      "text/plain": [
       "'Audio Nuggets'"
      ]
     },
     "execution_count": 273,
     "metadata": {},
     "output_type": "execute_result"
    }
   ],
   "source": [
    "cat.find_element_by_xpath('//*[@class=\"form-control dd-category\"]/option[3]').get_attribute('value')#.click()"
   ]
  },
  {
   "cell_type": "code",
   "execution_count": 277,
   "metadata": {},
   "outputs": [],
   "source": [
    "author = driver.find_elements_by_xpath('//div[@class=\"form-group\"]')"
   ]
  },
  {
   "cell_type": "code",
   "execution_count": 278,
   "metadata": {},
   "outputs": [],
   "source": [
    "auth = author[0]"
   ]
  },
  {
   "cell_type": "code",
   "execution_count": 279,
   "metadata": {},
   "outputs": [
    {
     "data": {
      "text/plain": [
       "'Adam Markel'"
      ]
     },
     "execution_count": 279,
     "metadata": {},
     "output_type": "execute_result"
    }
   ],
   "source": [
    "auth.find_element_by_xpath('//*[@class=\"form-control dd-author\"]/option[3]').get_attribute('value')#.click()"
   ]
  },
  {
   "cell_type": "code",
   "execution_count": 237,
   "metadata": {},
   "outputs": [],
   "source": [
    "#mentorBoxLogin()\n",
    "#mentorBoxProfile()\n",
    "#mentorBoxCategory()"
   ]
  },
  {
   "cell_type": "code",
   "execution_count": null,
   "metadata": {},
   "outputs": [],
   "source": []
  },
  {
   "cell_type": "code",
   "execution_count": null,
   "metadata": {},
   "outputs": [],
   "source": []
  },
  {
   "cell_type": "code",
   "execution_count": null,
   "metadata": {},
   "outputs": [],
   "source": []
  }
 ],
 "metadata": {
  "kernelspec": {
   "display_name": "Python 3",
   "language": "python",
   "name": "python3"
  },
  "language_info": {
   "codemirror_mode": {
    "name": "ipython",
    "version": 3
   },
   "file_extension": ".py",
   "mimetype": "text/x-python",
   "name": "python",
   "nbconvert_exporter": "python",
   "pygments_lexer": "ipython3",
   "version": "3.7.7"
  }
 },
 "nbformat": 4,
 "nbformat_minor": 4
}
